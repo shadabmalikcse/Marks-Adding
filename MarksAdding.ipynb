{
  "nbformat": 4,
  "nbformat_minor": 0,
  "metadata": {
    "colab": {
      "provenance": [],
      "authorship_tag": "ABX9TyNiyNQvu6Wh2y2GXd4iLpxm",
      "include_colab_link": true
    },
    "kernelspec": {
      "name": "python3",
      "display_name": "Python 3"
    },
    "language_info": {
      "name": "python"
    }
  },
  "cells": [
    {
      "cell_type": "markdown",
      "metadata": {
        "id": "view-in-github",
        "colab_type": "text"
      },
      "source": [
        "<a href=\"https://colab.research.google.com/github/shadabmalikcse/Marks-Adding/blob/main/MarksAdding.ipynb\" target=\"_parent\"><img src=\"https://colab.research.google.com/assets/colab-badge.svg\" alt=\"Open In Colab\"/></a>"
      ]
    },
    {
      "cell_type": "code",
      "execution_count": 4,
      "metadata": {
        "id": "fiAMKziBzMp5"
      },
      "outputs": [],
      "source": [
        "import csv\n",
        "\n",
        "input_file = '/content/Mini Project - Marks Adding.csv'\n",
        "output_file = 'output.csv'\n",
        "\n",
        "\n",
        "data = {}\n",
        "\n",
        "\n",
        "with open(input_file, 'r') as file:\n",
        "    csv_reader = csv.reader(file)\n",
        "    header = next(csv_reader)\n",
        "    for row in csv_reader:\n",
        "        roll_no, marks = row\n",
        "        marks = int(marks)\n",
        "        if roll_no in data:\n",
        "            data[roll_no] += marks\n",
        "        else:\n",
        "            data[roll_no] = marks\n",
        "\n",
        "with open(output_file, 'w', newline='') as file:\n",
        "    csv_writer = csv.writer(file)\n",
        "    csv_writer.writerow(['Roll Number', 'Total Marks'])\n",
        "    for roll_no, total_marks in data.items():\n",
        "        csv_writer.writerow([roll_no, total_marks])"
      ]
    }
  ]
}